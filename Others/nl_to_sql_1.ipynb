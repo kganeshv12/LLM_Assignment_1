{
 "cells": [
  {
   "cell_type": "code",
   "execution_count": 1,
   "metadata": {},
   "outputs": [],
   "source": [
    "from get_completion_1 import get_completion"
   ]
  },
  {
   "cell_type": "code",
   "execution_count": 2,
   "metadata": {},
   "outputs": [],
   "source": [
    "q1 = \"what was the count of the male candidates and female candidates who contested the 2019 maharashtra elections?\" \n",
    "ans1 = \"\"\"   SELECT candidate_sex, COUNT(*) AS candidate_count\n",
    "FROM Maharashtra_elections_2019\n",
    "GROUP BY candidate_sex;\n",
    "\"\"\"\n",
    "\n",
    "q2 = \"what were the top three political prties which got the maximum number of votes, and how many votes did they get with respect to the parlimentary elections of 2024?\"\n",
    "ans2 = \"\"\"\n",
    "SELECT party_name_expanded, SUM(secured_votes) AS total_votes\n",
    "FROM parlimentary_elections_2024\n",
    "GROUP BY party_name_expanded\n",
    "ORDER BY total_votes DESC\n",
    "LIMIT 3;\n",
    "\"\"\"\n",
    "\n",
    "q3 = \"find the political parties with the maximum number of female candidates and the count of female candidates in the 2019 Maharashtra elections\"\n",
    "ans3 = \"\"\"\n",
    "SELECT party_name, COUNT(*) AS female_candidate_count\n",
    "FROM Maharashtra_elections_2019\n",
    "WHERE candidate_sex = 'FEMALE'\n",
    "GROUP BY party_name\n",
    "ORDER BY female_candidate_count DESC;\n",
    "\"\"\"\n",
    "\n",
    "q4 = \"count constituencies where BJP won in 2019 but lost in 2024 and where BJP won in 2024 but lost in 2019.\"\n",
    "ans4 = \"\"\"SELECT \n",
    "    CASE \n",
    "        WHEN p2019.secured_votes > p2024.secured_votes THEN 'BJP Won in 2019 but Lost in 2024'\n",
    "        WHEN p2024.secured_votes > p2019.secured_votes THEN 'BJP Won in 2024 but Lost in 2019'\n",
    "    END AS result_type,\n",
    "    COUNT(*) AS constituencies_count\n",
    "FROM \n",
    "    parlimentary_elections_2019 p2019\n",
    "JOIN \n",
    "    parlimentary_elections_2024 p2024\n",
    "ON \n",
    "    p2019.state_name = p2024.state_name \n",
    "    AND p2019.constituency_name = p2024.constituency_name\n",
    "WHERE \n",
    "    p2019.party_name = 'BJP' \n",
    "    AND (p2019.secured_votes != p2024.secured_votes)  -- Ensuring there's a change in vote share\n",
    "GROUP BY \n",
    "    result_type;\n",
    "\"\"\"\n",
    "q5 = \"find the name of the political party that won the parliamentary elections in Maharashtra in both 2019 and 2024, along with the number of votes secured by the party in each year\"\n",
    "ans5 = \"\"\"\n",
    "SELECT \n",
    "    p2019.party_name AS party_name_2019,\n",
    "    p2019.secured_votes AS votes_2019,\n",
    "    p2024.party_name AS party_name_2024,\n",
    "    p2024.secured_votes AS votes_2024\n",
    "FROM \n",
    "    parlimentary_elections_2019 p2019\n",
    "JOIN \n",
    "    parlimentary_elections_2024 p2024\n",
    "ON \n",
    "    p2019.state_name = p2024.state_name \n",
    "    AND p2019.constituency_name = p2024.constituency_name\n",
    "WHERE \n",
    "    p2019.party_name = p2024.party_name\n",
    "ORDER BY \n",
    "    p2019.secured_votes DESC\n",
    "LIMIT 1;\n",
    "\n",
    "\"\"\""
   ]
  },
  {
   "cell_type": "code",
   "execution_count": 3,
   "metadata": {},
   "outputs": [],
   "source": [
    "schema_context = \"\"\"\n",
    "        Database Schema:\n",
    "        1. Table: parlimentary_elections_2019\n",
    "        Columns: state_name (TEXT), constituency_name (TEXT), assembly_constituency_name (TEXT), nota_votes (INTEGER), candidate_name (TEXT), party_name (TEXT), secured_votes (INTEGER)\n",
    "        Data : \n",
    "\n",
    "        Andhra Pradesh,Aruku ,Palakonda (ST),3736,KISHORE CHANDRA DEO,TDP,54056\n",
    "        Andhra Pradesh,Aruku ,Palakonda (ST),3736,Dr. KOSURI KASI VISWANADHA VEERA VENKATA SATYANARAYANA REDDY,BJP,1753\n",
    "        Andhra Pradesh,Aruku ,Palakonda (ST),3736,GODDETI. MADHAVI,YSRCP,69588\n",
    "        Andhra Pradesh,Aruku ,Palakonda (ST),3736,SHRUTI DEVI VYRICHERLA,INC,1327\n",
    "        Andhra Pradesh,Aruku ,Palakonda (ST),3736,GANGULAIAH VAMPURU.,JnP,2987\n",
    "\n",
    "\n",
    "        2. Table: Maharashtra_elections_2019\n",
    "        Columns: state_name (TEXT), assembly_constituency_number (INTEGER), assembly_constituency_name (TEXT), candidate_name (TEXT), candidate_sex (TEXT), candidate_age (INTEGER), candidate_category (TEXT), party_name (TEXT), secured_votes (INTEGER), percentage_of_votes (REAL), total_voters (INTEGER), total_votes_in_state (INTEGER), PERCENT_VOTES_POLLED (REAL), candidate_position (INTEGER)\n",
    "        Data : \n",
    "\n",
    "        Maharashtra,1,Akkalkuwa ,ADV. K. C. PADAVI,MALE,61,ST,INC,82770,41.25545786,278888,200628,71.93855598,1\n",
    "        Maharashtra,1,Akkalkuwa ,AAMSHYA FULJI PADAVI,MALE,51,ST,SHS,80674,40.21073828,278888,200628,71.93855598,2\n",
    "        Maharashtra,1,Akkalkuwa ,NAGESH DILVARSING PADVI,MALE,44,ST,IND,21664,10.79809398,278888,200628,71.93855598,3\n",
    "        Maharashtra,1,Akkalkuwa ,NOTA,NOTA,0,NOTA,NOTA,4857,2.420898379,278888,200628,71.93855598,4\n",
    "        Maharashtra,1,Akkalkuwa ,ADV. KAILAS PRATAPSING VASAVE,MALE,28,ST,AAAP,4055,2.021153578,278888,200628,71.93855598,5\n",
    "\n",
    "\n",
    "        3. Table: parlimentary_elections_2024\n",
    "        Columns: candidate_name (TEXT), party_name_expanded (TEXT), secured_votes (INTEGER), percentage_of_votes (REAL), state_name (TEXT), constituency_name (TEXT), party_name (TEXT)\n",
    "        Data : \n",
    "\n",
    "        BISHNU PADA RAY,Bharatiya Janata Party,102436,50.58,Andaman & Nicobar Islands,Andaman & Nicobar Islands,BJP\n",
    "        KULDEEP RAI SHARMA,Indian National Congress,78040,38.54,Andaman & Nicobar Islands,Andaman & Nicobar Islands,INC\n",
    "        MANOJ PAUL,Andaman Nicobar Democratic Congress,8254,4.08,Andaman & Nicobar Islands,Andaman & Nicobar Islands,ANDC\n",
    "        D AYYAPPAN,Communist Party of India (Marxist),6017,2.97,Andaman & Nicobar Islands,Andaman & Nicobar Islands,CPI (M)\n",
    "        V.K. ABDUL AZIZ,Independent,2203,1.09,Andaman & Nicobar Islands,Andaman & Nicobar Islands,IND\n",
    "\n",
    "    \"\"\""
   ]
  },
  {
   "cell_type": "code",
   "execution_count": 4,
   "metadata": {},
   "outputs": [],
   "source": [
    "nl_query = \"Find the count of votes secured by the political party BJP in the parlimentary elections of 2019 and parlimentary elections of 2024?\""
   ]
  },
  {
   "cell_type": "code",
   "execution_count": 5,
   "metadata": {},
   "outputs": [],
   "source": [
    "prompt = f\"\"\"\n",
    "    You are an expert in generating SQL queries from natural language queries.\n",
    "    \n",
    "    I want you to generate SQL query for the input question, which needs to be executed in SQLite3 in python. \n",
    "\n",
    "    Please keep in mind the schema of my database and the correct spellings of the table and column names.\n",
    "    \n",
    "    Just Give me one SQL query, nothing else. \n",
    "    \n",
    "    I don't want any introduction, NO explanation, NO conclusion, just the correct SQL query.\n",
    "    \n",
    "    Please dont output backslashes. Use this database schema as context for generating SQL Queries which will answer the input question:\n",
    "\n",
    "    {schema_context}\n",
    "\n",
    "    #####\n",
    "\n",
    "    Here are some EXAMPLES : \n",
    "\n",
    "    Input : {q1}\n",
    "    Output : {ans1}\n",
    "\n",
    "    Input : {q2}\n",
    "    Output : {ans2}\n",
    "\n",
    "    Input : {q3}\n",
    "    Output : {ans3}\n",
    "\n",
    "    Input : {q4}\n",
    "    Output : {ans4}\n",
    "\n",
    "    Input : {q5}\n",
    "    Output : {ans5}\n",
    "\n",
    "    #####\n",
    "\n",
    "    Now generate the SQL query for the following question:\n",
    "\n",
    "    Input : {nl_query}\n",
    "\n",
    "\"\"\""
   ]
  },
  {
   "cell_type": "code",
   "execution_count": 7,
   "metadata": {},
   "outputs": [
    {
     "name": "stdout",
     "output_type": "stream",
     "text": [
      "SELECT COUNT(*) AS votes_count\n",
      "FROM Maharashtra_elections_2019 p2019\n",
      "JOIN\n",
      "    Maharashtra_elections_2024 p2024\n",
      "ON\n",
      "    p2019.state_name = p2024.state_name\n",
      "AND p2019.constituency_name = p2024.constituency_name\n",
      "WHERE p2019.party_name = 'BJP'\n",
      "ORDER BY p2019.secured_votes DESC;\n"
     ]
    }
   ],
   "source": [
    "res = get_completion(prompt)\n",
    "print(res)"
   ]
  },
  {
   "cell_type": "code",
   "execution_count": 1,
   "metadata": {},
   "outputs": [
    {
     "name": "stdout",
     "output_type": "stream",
     "text": [
      "Antarctica is the southernmost continent on Earth, located almost entirely within the Antarctic Circle. It surrounds the South Pole and is situated in the Southern Hemisphere.\n",
      "\n",
      "To be more specific, Antarctica is situated:\n",
      "\n",
      "* At the bottom of the world, surrounding the South Pole\n",
      "* In the Southern Ocean, which surrounds the continent\n",
      "* South of the Atlantic, Indian, and Pacific Oceans\n",
      "* East of South America, Africa, and Australia\n",
      "* West of the Southern Ocean and the Drake Passage (which separates South America from Antarctica)\n",
      "\n",
      "Antarctica is a frozen desert continent, covering an area of about 14 million square kilometers (5.4 million square miles), making it the fifth-largest continent on Earth. It is also the coldest, driest, and windiest continent, with an average temperature of around -50°C (-58°F) in winter and -12°C (10°F) in summer.\n",
      "\n",
      "Despite its remote location, Antarctica is home to several research stations and a diverse range of wildlife, including penguins, seals, and whales.\n"
     ]
    }
   ],
   "source": [
    "from get_completion_1 import get_completion\n",
    "\n",
    "res = get_completion(\"Where is Antarctica?\")\n",
    "print(res)"
   ]
  },
  {
   "cell_type": "code",
   "execution_count": null,
   "metadata": {},
   "outputs": [],
   "source": []
  }
 ],
 "metadata": {
  "kernelspec": {
   "display_name": "Python 3",
   "language": "python",
   "name": "python3"
  },
  "language_info": {
   "codemirror_mode": {
    "name": "ipython",
    "version": 3
   },
   "file_extension": ".py",
   "mimetype": "text/x-python",
   "name": "python",
   "nbconvert_exporter": "python",
   "pygments_lexer": "ipython3",
   "version": "3.11.6"
  }
 },
 "nbformat": 4,
 "nbformat_minor": 2
}
