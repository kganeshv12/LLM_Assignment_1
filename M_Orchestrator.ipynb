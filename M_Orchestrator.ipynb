{
 "cells": [
  {
   "cell_type": "code",
   "execution_count": 14,
   "metadata": {},
   "outputs": [],
   "source": [
    "# M "
   ]
  },
  {
   "cell_type": "code",
   "execution_count": 15,
   "metadata": {},
   "outputs": [],
   "source": [
    "from critique_LLM import get_enhanced_prompt\n",
    "from SQL_query_LLM import get_SQL_query"
   ]
  },
  {
   "cell_type": "code",
   "execution_count": null,
   "metadata": {},
   "outputs": [],
   "source": [
    "question = \"How many MALE candidates stood for elections in Maharashtra in 2019?\""
   ]
  },
  {
   "cell_type": "code",
   "execution_count": 26,
   "metadata": {},
   "outputs": [
    {
     "name": "stdout",
     "output_type": "stream",
     "text": [
      "Enhanced Prompt:  Retrieve the count of male candidates by gender (male) who stood for elections in aharashtra in 2019 from the Maharashtra_elections_2019 table.\n"
     ]
    }
   ],
   "source": [
    "enhanced_prompt = get_enhanced_prompt(question)\n",
    "print(\"Enhanced Prompt: \", enhanced_prompt)"
   ]
  },
  {
   "cell_type": "code",
   "execution_count": 27,
   "metadata": {},
   "outputs": [
    {
     "name": "stdout",
     "output_type": "stream",
     "text": [
      "SELECT candidate_sex, COUNT(*) AS male_candidate_count\n",
      "FROM Maharashtra_elections_2019\n",
      "WHERE candidate_sex = 'MALE'\n",
      "GROUP BY candidate_sex;\n"
     ]
    }
   ],
   "source": [
    "SQL_query = get_SQL_query(enhanced_prompt)\n",
    "print(SQL_query)"
   ]
  },
  {
   "cell_type": "code",
   "execution_count": 20,
   "metadata": {},
   "outputs": [],
   "source": [
    "UPDATED_STR = \"\"\"SELECT \n",
    "    p2019.party_name AS party_name_2019,\n",
    "    p2019.secured_votes AS votes_2019,\n",
    "    p2024.party_name AS party_name_2024,\n",
    "    p2024.secured_votes AS votes_2024\n",
    "FROM \n",
    "    parlimentary_elections_2019 p2019\n",
    "JOIN \n",
    "    parlimentary_elections_2024 p2024\n",
    "ON \n",
    "    p2019.state_name = p2024.state_name \n",
    "AND p2019.constituency_name = p2024.constituency_name\n",
    "WHERE \n",
    "    p2019.party_name = 'BJP';\"\"\""
   ]
  },
  {
   "cell_type": "code",
   "execution_count": 28,
   "metadata": {},
   "outputs": [
    {
     "name": "stdout",
     "output_type": "stream",
     "text": [
      "<class 'str'>\n"
     ]
    }
   ],
   "source": [
    "print(type(SQL_query))"
   ]
  },
  {
   "cell_type": "code",
   "execution_count": null,
   "metadata": {},
   "outputs": [
    {
     "name": "stdout",
     "output_type": "stream",
     "text": [
      "Response from SQL Query :  {'code': 0, 'msg': {'text': 'SUCCESS', 'reason': None, 'traceback': None, 'input': \"SELECT candidate_sex, COUNT(*) AS male_candidate_count\\nFROM Maharashtra_elections_2019\\nWHERE candidate_sex = 'MALE'\\nGROUP BY candidate_sex;\"}, 'data': [('MALE', 2997)]}\n",
      "  candidate_sex  male_candidate_count\n",
      "0          MALE                  2997\n"
     ]
    }
   ],
   "source": [
    "from SQL_runtime_1 import sql_and_dataframe\n",
    "\n",
    "dataframe = sql_and_dataframe(SQL_query)\n",
    "print(dataframe)"
   ]
  },
  {
   "cell_type": "code",
   "execution_count": 30,
   "metadata": {},
   "outputs": [
    {
     "name": "stdout",
     "output_type": "stream",
     "text": [
      "<class 'pandas.core.frame.DataFrame'>\n"
     ]
    }
   ],
   "source": [
    "print(type(dataframe))"
   ]
  },
  {
   "cell_type": "code",
   "execution_count": 32,
   "metadata": {},
   "outputs": [
    {
     "data": {
      "image/png": "[encoded data removed]",
      "text/plain": [
       "<Figure size 640x480 with 1 Axes>"
      ]
     },
     "metadata": {},
     "output_type": "display_data"
    }
   ],
   "source": [
    "import pandas as pd\n",
    "import matplotlib.pyplot as plt\n",
    "\n",
    "dataframe.plot(kind='bar')\n",
    "plt.show()"
   ]
  },
  {
   "cell_type": "code",
   "execution_count": null,
   "metadata": {},
   "outputs": [
    {
     "ename": "ImportError",
     "evalue": "cannot import name 'get_insights' from 'insight_LLM' (c:\\Users\\Bhavani K\\Desktop\\M GANESHV12\\M PES\\M SEM 7\\M LLM\\lab1 (2)\\lab1\\MGanesh\\insight_LLM.py)",
     "output_type": "error",
     "traceback": [
      "\u001b[1;31m---------------------------------------------------------------------------\u001b[0m",
      "\u001b[1;31mImportError\u001b[0m                               Traceback (most recent call last)",
      "Cell \u001b[1;32mIn[35], line 1\u001b[0m\n\u001b[1;32m----> 1\u001b[0m \u001b[38;5;28;01mfrom\u001b[39;00m \u001b[38;5;21;01minsight_LLM\u001b[39;00m \u001b[38;5;28;01mimport\u001b[39;00m get_insights\n\u001b[0;32m      3\u001b[0m Inference \u001b[38;5;241m=\u001b[39m get_insights(question, dataframe)\n\u001b[0;32m      4\u001b[0m \u001b[38;5;28mprint\u001b[39m(Inference)\n",
      "\u001b[1;31mImportError\u001b[0m: cannot import name 'get_insights' from 'insight_LLM' (c:\\Users\\Bhavani K\\Desktop\\M GANESHV12\\M PES\\M SEM 7\\M LLM\\lab1 (2)\\lab1\\MGanesh\\insight_LLM.py)"
     ]
    }
   ],
   "source": [
    "from insight_LLM import get_insights\n",
    "\n",
    "Inference = get_insights(question, dataframe)\n",
    "print(Inference)"
   ]
  },
  {
   "cell_type": "code",
   "execution_count": null,
   "metadata": {},
   "outputs": [],
   "source": []
  }
 ],
 "metadata": {
  "kernelspec": {
   "display_name": "Python 3",
   "language": "python",
   "name": "python3"
  },
  "language_info": {
   "codemirror_mode": {
    "name": "ipython",
    "version": 3
   },
   "file_extension": ".py",
   "mimetype": "text/x-python",
   "name": "python",
   "nbconvert_exporter": "python",
   "pygments_lexer": "ipython3",
   "version": "3.11.6"
  }
 },
 "nbformat": 4,
 "nbformat_minor": 2
}
